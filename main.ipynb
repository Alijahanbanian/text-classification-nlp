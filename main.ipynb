{
 "cells": [
  {
   "cell_type": "markdown",
   "metadata": {},
   "source": [
    "# **Text Classification**"
   ]
  },
  {
   "cell_type": "markdown",
   "metadata": {},
   "source": [
    "## Loading Libraries"
   ]
  },
  {
   "cell_type": "code",
   "execution_count": 6,
   "metadata": {},
   "outputs": [
    {
     "name": "stderr",
     "output_type": "stream",
     "text": [
      "[nltk_data] Downloading package stopwords to C:\\Users\\Ali/nltk_data...\n",
      "[nltk_data]   Package stopwords is already up-to-date!\n",
      "[nltk_data] Downloading package wordnet to C:\\Users\\Ali/nltk_data...\n",
      "[nltk_data]   Package wordnet is already up-to-date!\n",
      "[nltk_data] Downloading package omw-1.4 to C:\\Users\\Ali/nltk_data...\n",
      "[nltk_data]   Package omw-1.4 is already up-to-date!\n"
     ]
    },
    {
     "data": {
      "text/plain": [
       "True"
      ]
     },
     "execution_count": 6,
     "metadata": {},
     "output_type": "execute_result"
    }
   ],
   "source": [
    "import json\n",
    "import pandas as pd\n",
    "import re\n",
    "import nltk\n",
    "from sklearn.feature_extraction.text import TfidfVectorizer\n",
    "from sklearn.linear_model import LogisticRegression\n",
    "from sklearn.naive_bayes import MultinomialNB\n",
    "from sklearn.svm import LinearSVC\n",
    "from sklearn.metrics import classification_report, accuracy_score\n",
    "from nltk.corpus import stopwords\n",
    "from nltk.stem import WordNetLemmatizer\n",
    "\n",
    "# Download necessary NLTK data\n",
    "nltk.download('stopwords')\n",
    "nltk.download('wordnet')\n",
    "nltk.download('omw-1.4')"
   ]
  },
  {
   "cell_type": "markdown",
   "metadata": {},
   "source": [
    "## Load dataset (JSON Lines format)"
   ]
  },
  {
   "cell_type": "code",
   "execution_count": 7,
   "metadata": {},
   "outputs": [],
   "source": [
    "def load_json_lines(path):\n",
    "    with open(path, 'r', encoding='utf-8') as f:\n",
    "        return pd.DataFrame([json.loads(line) for line in f])\n",
    "\n",
    "train_df = load_json_lines('./Datasets/train.json')\n",
    "val_df = load_json_lines('./Datasets/validation.json')\n",
    "test_df = load_json_lines('./Datasets/test.json')"
   ]
  },
  {
   "cell_type": "markdown",
   "metadata": {},
   "source": [
    "## Preprocess Data"
   ]
  },
  {
   "cell_type": "code",
   "execution_count": 8,
   "metadata": {},
   "outputs": [],
   "source": [
    "\n",
    "# Advanced text preprocessing\n",
    "def preprocess_text(text_series):\n",
    "    lemmatizer = WordNetLemmatizer()\n",
    "    stop_words = set(stopwords.words('english'))\n",
    "    corpus = []\n",
    "    for text in text_series:\n",
    "        r = re.sub('[^a-zA-Z]', ' ', text)\n",
    "        r = r.lower()\n",
    "        r = r.split()\n",
    "        r = [word for word in r if word not in stop_words]\n",
    "        r = [lemmatizer.lemmatize(word) for word in r]\n",
    "        r = ' '.join(r)\n",
    "        corpus.append(r)\n",
    "    return corpus\n",
    "\n",
    "\n",
    "train_df['text'] = preprocess_text(train_df['text'])\n",
    "val_df['text'] = preprocess_text(val_df['text'])\n",
    "test_df['text'] = preprocess_text(test_df['text'])"
   ]
  },
  {
   "cell_type": "markdown",
   "metadata": {},
   "source": [
    "## TF-IDF Vectorization"
   ]
  },
  {
   "cell_type": "code",
   "execution_count": 9,
   "metadata": {},
   "outputs": [],
   "source": [
    "vectorizer = TfidfVectorizer(max_features=5000)\n",
    "X_train = vectorizer.fit_transform(train_df['text'])\n",
    "X_val = vectorizer.transform(val_df['text'])\n",
    "X_test = vectorizer.transform(test_df['text'])\n",
    "\n",
    "y_train = train_df['label']\n",
    "y_val = val_df['label']\n",
    "y_test = test_df['label']"
   ]
  },
  {
   "cell_type": "markdown",
   "metadata": {},
   "source": [
    "## Train and Evaluate Models"
   ]
  },
  {
   "cell_type": "code",
   "execution_count": 10,
   "metadata": {},
   "outputs": [
    {
     "name": "stdout",
     "output_type": "stream",
     "text": [
      "\n",
      "Logistic Regression Results on Validation Set:\n",
      "Validation Accuracy: 0.848\n",
      "\n",
      "Multinomial Naive Bayes Results on Validation Set:\n",
      "Validation Accuracy: 0.8323333333333334\n",
      "\n",
      "Support Vector Machine (SVM) Results on Validation Set:\n",
      "Validation Accuracy: 0.8473333333333334\n",
      "\n",
      "Best Model: Logistic Regression with Validation Accuracy: 0.848\n"
     ]
    }
   ],
   "source": [
    "def evaluate_model(model, name, X, y, dataset_type=\"Validation\"):\n",
    "    model.fit(X_train, y_train)\n",
    "    y_pred = model.predict(X)\n",
    "    acc = accuracy_score(y, y_pred)\n",
    "    print(f\"\\n{name} Results on {dataset_type} Set:\")\n",
    "    print(f\"{dataset_type} Accuracy: {acc}\")\n",
    "    return model, acc\n",
    "\n",
    "models = [\n",
    "    (LogisticRegression(max_iter=1000), \"Logistic Regression\"),\n",
    "    (MultinomialNB(), \"Multinomial Naive Bayes\"),\n",
    "    (LinearSVC(), \"Support Vector Machine (SVM)\")\n",
    "]\n",
    "\n",
    "# Evaluate models on validation set and select the best one\n",
    "best_model = None\n",
    "best_model_name = None\n",
    "best_val_acc = 0\n",
    "trained_models = {}\n",
    "\n",
    "for model, name in models:\n",
    "    trained_model, val_acc = evaluate_model(model, name, X_val, y_val, \"Validation\")\n",
    "    trained_models[name] = trained_model\n",
    "    if val_acc > best_val_acc:\n",
    "        best_val_acc = val_acc\n",
    "        best_model = trained_model\n",
    "        best_model_name = name\n",
    "\n",
    "print(f\"\\nBest Model: {best_model_name} with Validation Accuracy: {best_val_acc}\")"
   ]
  },
  {
   "cell_type": "markdown",
   "metadata": {},
   "source": [
    "## Evaluate on Test Set and Display Metrics"
   ]
  },
  {
   "cell_type": "code",
   "execution_count": 11,
   "metadata": {},
   "outputs": [
    {
     "name": "stdout",
     "output_type": "stream",
     "text": [
      "\n",
      "Final Evaluation on Test Set:\n",
      "Test Accuracy for Logistic Regression: 0.8484\n",
      "Classification report saved to test_classification_report.csv\n"
     ]
    }
   ],
   "source": [
    "# Evaluate the best model on test set\n",
    "test_preds = best_model.predict(X_test)\n",
    "print(f\"\\nFinal Evaluation on Test Set:\")\n",
    "print(f\"Test Accuracy for {best_model_name}: {accuracy_score(y_test, test_preds)}\")\n",
    "\n",
    "# Generate and save classification report to CSV\n",
    "test_report = classification_report(y_test, test_preds, output_dict=True)\n",
    "report_df = pd.DataFrame(test_report).transpose()\n",
    "report_df.to_csv('test_classification_report.csv', index=True)\n",
    "print(\"Classification report saved to test_classification_report.csv\")"
   ]
  },
  {
   "cell_type": "code",
   "execution_count": null,
   "metadata": {},
   "outputs": [],
   "source": []
  }
 ],
 "metadata": {
  "kernelspec": {
   "display_name": "Python 3",
   "language": "python",
   "name": "python3"
  },
  "language_info": {
   "codemirror_mode": {
    "name": "ipython",
    "version": 3
   },
   "file_extension": ".py",
   "mimetype": "text/x-python",
   "name": "python",
   "nbconvert_exporter": "python",
   "pygments_lexer": "ipython3",
   "version": "3.10.11"
  }
 },
 "nbformat": 4,
 "nbformat_minor": 2
}
